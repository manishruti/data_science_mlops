{
 "cells": [
  {
   "cell_type": "code",
   "execution_count": 1,
   "id": "c40b6f45",
   "metadata": {},
   "outputs": [
    {
     "data": {
      "text/plain": [
       "'c:\\\\Users\\\\ojha.manish.kumar\\\\Documents\\\\Udemy\\\\DataScience_End_to_End_Projects\\\\data_science_mlops\\\\research'"
      ]
     },
     "execution_count": 1,
     "metadata": {},
     "output_type": "execute_result"
    }
   ],
   "source": [
    "%pwd"
   ]
  },
  {
   "cell_type": "code",
   "execution_count": 3,
   "id": "a7cda064",
   "metadata": {},
   "outputs": [
    {
     "data": {
      "text/plain": [
       "'c:\\\\Users\\\\ojha.manish.kumar\\\\Documents\\\\Udemy\\\\DataScience_End_to_End_Projects\\\\data_science_mlops'"
      ]
     },
     "execution_count": 3,
     "metadata": {},
     "output_type": "execute_result"
    }
   ],
   "source": [
    "import os\n",
    "os.chdir(\"../\")\n",
    "%pwd"
   ]
  },
  {
   "cell_type": "code",
   "execution_count": 21,
   "id": "d34f0b19",
   "metadata": {},
   "outputs": [],
   "source": [
    "from dataclasses import dataclass\n",
    "from pathlib import Path\n",
    "\n",
    "@dataclass\n",
    "class DataTransformationConfig:\n",
    "    root_dir:Path\n",
    "    data_file_path:Path"
   ]
  },
  {
   "cell_type": "code",
   "execution_count": 22,
   "id": "40683c37",
   "metadata": {},
   "outputs": [],
   "source": [
    "from src.datascience.constants import *\n",
    "from src.datascience.utils.common import create_directories, read_yaml"
   ]
  },
  {
   "cell_type": "code",
   "execution_count": 23,
   "id": "e90b8e3f",
   "metadata": {},
   "outputs": [],
   "source": [
    "class ConfigurationManager:\n",
    "    def __init__(\n",
    "        self, \n",
    "        config_file_path=CONFIG_FILE_PATH,\n",
    "        params_file_path=PARAM_FILE_PATH,\n",
    "        schema_file_path=SCHEMA_FILE_PATH\n",
    "        ):\n",
    "        self.config = read_yaml(config_file_path)\n",
    "        self.params = read_yaml(params_file_path)\n",
    "        self.schema = read_yaml(schema_file_path)\n",
    "\n",
    "        create_directories([self.config.artifacts_root])\n",
    "\n",
    "    def get_data_transformation_config(self)->DataTransformationConfig:\n",
    "        config = self.config.data_transformation\n",
    "        create_directories([config.root_dir])    \n",
    "\n",
    "        data_transformation_config = DataTransformationConfig(\n",
    "            root_dir = config.root_dir,\n",
    "            data_file_path = config.data_file_path\n",
    "        )            \n",
    "\n",
    "        return data_transformation_config\n"
   ]
  },
  {
   "cell_type": "code",
   "execution_count": 24,
   "id": "feaeb220",
   "metadata": {},
   "outputs": [],
   "source": [
    "import os\n",
    "from src.datascience import logger\n",
    "from sklearn.model_selection import train_test_split\n",
    "import pandas as pd"
   ]
  },
  {
   "cell_type": "code",
   "execution_count": 25,
   "id": "8d4ebe4a",
   "metadata": {},
   "outputs": [],
   "source": [
    "class DataTransformation:\n",
    "    def __init__(self, config:DataTransformationConfig):\n",
    "        self.config = config\n",
    "\n",
    "\n",
    "    def train_test_split(self):\n",
    "        data = pd.read_csv(self.config.data_file_path)\n",
    "\n",
    "        # Split the data into training and test sets (0.75, 0.25) split\n",
    "\n",
    "        train, test = train_test_split(data, test_size=0.25)\n",
    "\n",
    "        train.to_csv(os.path.join(self.config.root_dir, \"train.csv\"), index=False)\n",
    "        test.to_csv(os.path.join(self.config.root_dir, \"test.csv\"), index=False)\n",
    "\n",
    "        logger.info(\"Splitted data into training and test set\")\n",
    "        logger.info(f\"train shape:{train.shape}\")\n",
    "        logger.info(f\"test.shape:{test.shape}\")\n",
    "\n",
    "        print(train.shape)\n",
    "        print(test.shape)"
   ]
  },
  {
   "cell_type": "code",
   "execution_count": 26,
   "id": "8506d07e",
   "metadata": {},
   "outputs": [
    {
     "name": "stdout",
     "output_type": "stream",
     "text": [
      "[2025-09-17 15:55:03,612: INFO: common]: yaml file: config\\config.yaml loaded successfully\n",
      "[2025-09-17 15:55:03,615: INFO: common]: yaml file: params.yaml loaded successfully\n",
      "[2025-09-17 15:55:03,619: INFO: common]: yaml file: schema.yaml loaded successfully\n",
      "[2025-09-17 15:55:03,622: INFO: common]: created directory at: artifacts\n",
      "[2025-09-17 15:55:03,624: INFO: common]: created directory at: artifacts/data_transformation\n",
      "[2025-09-17 15:55:03,673: INFO: 1632071291]: Splitted data into training and test set\n",
      "[2025-09-17 15:55:03,676: INFO: 1632071291]: train shape:(750, 21)\n",
      "[2025-09-17 15:55:03,681: INFO: 1632071291]: test.shape:(250, 21)\n",
      "(750, 21)\n",
      "(250, 21)\n"
     ]
    }
   ],
   "source": [
    "try:\n",
    "    config = ConfigurationManager()\n",
    "    data_transformation_config = config.get_data_transformation_config()\n",
    "    data_transformation = DataTransformation(config=data_transformation_config)\n",
    "    data_transformation.train_test_split()\n",
    "except Exception as e:\n",
    "     raise e"
   ]
  },
  {
   "cell_type": "code",
   "execution_count": null,
   "id": "44350f07",
   "metadata": {},
   "outputs": [],
   "source": []
  },
  {
   "cell_type": "code",
   "execution_count": null,
   "id": "c236488a",
   "metadata": {},
   "outputs": [],
   "source": []
  }
 ],
 "metadata": {
  "kernelspec": {
   "display_name": "Python 3",
   "language": "python",
   "name": "python3"
  },
  "language_info": {
   "codemirror_mode": {
    "name": "ipython",
    "version": 3
   },
   "file_extension": ".py",
   "mimetype": "text/x-python",
   "name": "python",
   "nbconvert_exporter": "python",
   "pygments_lexer": "ipython3",
   "version": "3.10.0"
  }
 },
 "nbformat": 4,
 "nbformat_minor": 5
}
